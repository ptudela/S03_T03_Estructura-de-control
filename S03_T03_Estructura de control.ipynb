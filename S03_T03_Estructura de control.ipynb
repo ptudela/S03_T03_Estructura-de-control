{
 "cells": [
  {
   "cell_type": "markdown",
   "id": "e190623c",
   "metadata": {},
   "source": [
    "# S03 T03: Estructura de control"
   ]
  },
  {
   "cell_type": "markdown",
   "id": "ea132ef3",
   "metadata": {},
   "source": [
    "## Nivell 1\n",
    "### Exercici 1. L'exercici consisteix a crear un programa que et classifiqui una variable numèrica en funció de l’escala Suspès/Aprovat/Notable/Excel·lent."
   ]
  },
  {
   "cell_type": "code",
   "execution_count": 1,
   "id": "8e51f384",
   "metadata": {},
   "outputs": [
    {
     "name": "stdout",
     "output_type": "stream",
     "text": [
      "9.2\n",
      "Excel·lent\n"
     ]
    }
   ],
   "source": [
    "# Ask for a number (score) as float \n",
    "score = float(input())\n",
    "\n",
    "if score < 5:\n",
    "    print(\"Suspès\")\n",
    "elif score >=5 and score < 7:\n",
    "    print(\"Aprovat\")\n",
    "elif score >=7 and score < 9:\n",
    "    print(\"Notable\")\n",
    "elif score >= 9:\n",
    "    print(\"Excel·lent\")"
   ]
  },
  {
   "cell_type": "markdown",
   "id": "76e43e47",
   "metadata": {},
   "source": [
    "## Exercici 2. Utilitzant el següent tutorial Programiz: Python Input, Output and Import crea un programa que et pregunti dos números. T’ha de mostrar un missatge dient si el primer és més gran, el segon és més gran o són iguals\n"
   ]
  },
  {
   "cell_type": "code",
   "execution_count": 3,
   "id": "66e9cc5f",
   "metadata": {},
   "outputs": [
    {
     "name": "stdout",
     "output_type": "stream",
     "text": [
      "Please, write a number: 9\n",
      "Please, write a second number: 5\n",
      "the first number is greater than the second one\n"
     ]
    }
   ],
   "source": [
    "num1 = int(input(\"Please, write a number: \"))\n",
    "num2 = int(input(\"Please, write a second number: \"))\n",
    "if num1>num2:\n",
    "    print(\"the first number is greater than the second number\")\n",
    "elif num2>num1:\n",
    "    print(\"the second number is greater than the first number\")\n",
    "elif num1==num2:\n",
    "    print(\"Both numbers are equal\")"
   ]
  },
  {
   "cell_type": "markdown",
   "id": "38482569",
   "metadata": {},
   "source": [
    "## Exercici 3. Crea un programa que et pregunti el teu nom, i et demani un número. Si el número és 0, hauria de mostrar un missatge d’error. En cas contrari, hauria de mostrar el nom repetit tants cops com indiqui el número. Per exemple, “Joan Joan Joan”.\n"
   ]
  },
  {
   "cell_type": "code",
   "execution_count": 2,
   "id": "61385768",
   "metadata": {},
   "outputs": [
    {
     "name": "stdout",
     "output_type": "stream",
     "text": [
      "Escribe tu nombre: Patty\n",
      "Escribe un número: 7\n",
      "PattyPattyPattyPattyPattyPattyPatty\n"
     ]
    }
   ],
   "source": [
    "nom = input(\"Escribe tu nombre: \")\n",
    "\n",
    "numero = int(input(\"Escribe un número: \"))\n",
    "if numero == 0:\n",
    "    print(\"error\")\n",
    "else:\n",
    "    print(nom*numero)\n"
   ]
  },
  {
   "cell_type": "markdown",
   "id": "b2da0e41",
   "metadata": {},
   "source": [
    "## Exercici 4. Crea un programa que donada una llista qualsevol, et digui si es simètrica o no. Si ho és, que et digui quants elements té.\n"
   ]
  },
  {
   "cell_type": "code",
   "execution_count": 3,
   "id": "9a485c9a",
   "metadata": {},
   "outputs": [
    {
     "name": "stdout",
     "output_type": "stream",
     "text": [
      "es simétrica\n"
     ]
    }
   ],
   "source": [
    "numlista = [2,4,5,5,4,2]  #lista prueba\n",
    "\n",
    "inversa = numlista[::-1]\n",
    "if numlista == inversa:\n",
    "    print(\"es simétrica\")\n",
    "else:\n",
    "    print(len(lista))\n",
    "\n"
   ]
  },
  {
   "cell_type": "markdown",
   "id": "d4737271",
   "metadata": {},
   "source": [
    "## Exercici 5. Crea un programa que donada una llista, et digui quants números coincideixen amb la seva posició. Per exemple [3,4,2,0,2,3,6] el 2 i el 6 coincideixen."
   ]
  },
  {
   "cell_type": "code",
   "execution_count": 3,
   "id": "b08526d0",
   "metadata": {},
   "outputs": [
    {
     "name": "stdout",
     "output_type": "stream",
     "text": [
      "los números que coinciden son:  [0, 2, 4, 8]\n",
      "total números que coinciden:  4\n"
     ]
    }
   ],
   "source": [
    "listaprueba = [0,5,2,6,4,1,0,8,8]  #creamos una lista de prueba\n",
    "\n",
    "numcoincide = []       #creamos una lista vacía para los números que coincidan\n",
    "coincide = 0           #creamos una variable vacía las coincidencias que se encuentren\n",
    "i = 0\n",
    "while i < len(listaprueba):\n",
    "    if listaprueba[i] == i:\n",
    "        coincide +=1\n",
    "        numcoincide.append(i)\n",
    "    i += 1\n",
    "print(\"los números que coinciden son: \", numcoincide)\n",
    "print(\"total números que coinciden: \", coincide)"
   ]
  },
  {
   "cell_type": "code",
   "execution_count": null,
   "id": "a858960b",
   "metadata": {},
   "outputs": [],
   "source": []
  }
 ],
 "metadata": {
  "kernelspec": {
   "display_name": "Python 3",
   "language": "python",
   "name": "python3"
  },
  "language_info": {
   "codemirror_mode": {
    "name": "ipython",
    "version": 3
   },
   "file_extension": ".py",
   "mimetype": "text/x-python",
   "name": "python",
   "nbconvert_exporter": "python",
   "pygments_lexer": "ipython3",
   "version": "3.8.8"
  },
  "latex_envs": {
   "LaTeX_envs_menu_present": true,
   "autoclose": false,
   "autocomplete": true,
   "bibliofile": "biblio.bib",
   "cite_by": "apalike",
   "current_citInitial": 1,
   "eqLabelWithNumbers": true,
   "eqNumInitial": 1,
   "hotkeys": {
    "equation": "Ctrl-E",
    "itemize": "Ctrl-I"
   },
   "labels_anchors": false,
   "latex_user_defs": false,
   "report_style_numbering": false,
   "user_envs_cfg": false
  }
 },
 "nbformat": 4,
 "nbformat_minor": 5
}
